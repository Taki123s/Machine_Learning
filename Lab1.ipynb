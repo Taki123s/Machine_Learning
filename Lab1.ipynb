{
  "nbformat": 4,
  "nbformat_minor": 0,
  "metadata": {
    "colab": {
      "provenance": [],
      "authorship_tag": "ABX9TyPt0uTcpDR7mQ/sAyyz8gCA",
      "include_colab_link": true
    },
    "kernelspec": {
      "name": "python3",
      "display_name": "Python 3"
    },
    "language_info": {
      "name": "python"
    }
  },
  "cells": [
    {
      "cell_type": "markdown",
      "metadata": {
        "id": "view-in-github",
        "colab_type": "text"
      },
      "source": [
        "<a href=\"https://colab.research.google.com/github/Taki123s/Machine_Learning/blob/main/Lab1.ipynb\" target=\"_parent\"><img src=\"https://colab.research.google.com/assets/colab-badge.svg\" alt=\"Open In Colab\"/></a>"
      ]
    },
    {
      "cell_type": "code",
      "source": [
        "def task1():\n",
        "    n = int(input(\"Enter n:\"))\n",
        "    L=[]\n",
        "    for i in range(n):\n",
        "        x = int(input(\"Enter number position \"+str(i+1)+\" :\"))\n",
        "        L.append(x)\n",
        "    print(\"Max number of L: \"+str(max(L)))\n",
        "    print(\"Min number of L: \"+str(min(L)))\n",
        "    print(\"Sum of L: \"+str(sum(L)))\n",
        "    L.sort();\n",
        "    print(\"Sort L with ascending: \"+ str(L))\n",
        "    positive = 0;\n",
        "    negative = 0;\n",
        "    for m in L:\n",
        "        if(m>=0):positive+=1\n",
        "        else: negative+=1\n",
        "    print(\"Count positive: \"+str(positive))\n",
        "    print(\"Count negative: \"+str(negative))\n",
        "\n",
        "task1()"
      ],
      "metadata": {
        "colab": {
          "base_uri": "https://localhost:8080/"
        },
        "id": "94ztAEyJt-zs",
        "outputId": "54e11d64-7644-4364-8cd8-0286c7e5ae00"
      },
      "execution_count": 45,
      "outputs": [
        {
          "output_type": "stream",
          "name": "stdout",
          "text": [
            "Enter n:5\n",
            "Enter number position 1 :-10\n",
            "Enter number position 2 :-22\n",
            "Enter number position 3 :99\n",
            "Enter number position 4 :101\n",
            "Enter number position 5 :42\n",
            "Max number of L: 101\n",
            "Min number of L: -22\n",
            "Sum of L: 210\n",
            "Sort L with ascending: [-22, -10, 42, 99, 101]\n",
            "Count positive: 3\n",
            "Count negative: 2\n"
          ]
        }
      ]
    },
    {
      "cell_type": "code",
      "source": [
        "\n",
        "def task2(n):\n",
        "    if n == 1:\n",
        "        return 1\n",
        "    else:\n",
        "        factorial = 1\n",
        "        for i in range(1, n + 1):\n",
        "            factorial *= i\n",
        "        return task2(n - 1) + factorial\n",
        "\n",
        "n = int(input(\"Enter n:\"))\n",
        "print(task2(n))"
      ],
      "metadata": {
        "colab": {
          "base_uri": "https://localhost:8080/"
        },
        "id": "z5edlQMDz6AN",
        "outputId": "ab6a7324-9133-4e06-dbd5-ed505b9d2532"
      },
      "execution_count": 47,
      "outputs": [
        {
          "output_type": "stream",
          "name": "stdout",
          "text": [
            "Enter n:7\n",
            "5913\n"
          ]
        }
      ]
    },
    {
      "cell_type": "code",
      "source": [
        "class Account:\n",
        "      def __init__(self,name,email,country,friends,posts):\n",
        "          self.__name = name\n",
        "          self.__email = email\n",
        "          self.__country = country\n",
        "          self.__friends = friends\n",
        "          self.__posts = posts\n",
        "\n",
        "      def showName(self):\n",
        "            return (self.__name)\n",
        "\n",
        "\n",
        "a = Account('account 1','@gmail','@gmail','@gmail','@gmail')\n",
        "print(a.showName())"
      ],
      "metadata": {
        "colab": {
          "base_uri": "https://localhost:8080/"
        },
        "id": "QvROAN5B2ghE",
        "outputId": "9df93fc7-a5b2-448a-a28a-f09daf125b32"
      },
      "execution_count": 44,
      "outputs": [
        {
          "output_type": "stream",
          "name": "stdout",
          "text": [
            "account 1\n"
          ]
        }
      ]
    }
  ]
}